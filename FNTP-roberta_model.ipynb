{
 "cells": [
  {
   "cell_type": "markdown",
   "id": "4719d322",
   "metadata": {},
   "source": [
    "## Roberta Model\n",
    "> https://huggingface.co/hamzab/roberta-fake-news-classification\n"
   ]
  },
  {
   "cell_type": "markdown",
   "id": "85626c6f",
   "metadata": {},
   "source": [
    "\n",
    "\n",
    "The model is a roberta-base fine-tuned on fake-and-real-news-dataset. Initial Implemetation date: 13/07/2023 .\n",
    "\n",
    "> https://www.kaggle.com/datasets/clmentbisaillon/fake-and-real-news-dataset  \n",
    "\n",
    "It has a 100% accuracy on that dataset. The model takes a news article and predicts if it is true or fake. This model can be used in real time by inputting a headline and copy of the news article (any given length). The model can directly be implemented from the huggingface text classification model library."
   ]
  },
  {
   "cell_type": "code",
   "execution_count": 1,
   "id": "4b10c5cc",
   "metadata": {},
   "outputs": [
    {
     "data": {
      "application/vnd.jupyter.widget-view+json": {
       "model_id": "5a999afacdd44d3a84c2771f863e4106",
       "version_major": 2,
       "version_minor": 0
      },
      "text/plain": [
       "Downloading (…)okenizer_config.json:   0%|          | 0.00/349 [00:00<?, ?B/s]"
      ]
     },
     "metadata": {},
     "output_type": "display_data"
    },
    {
     "name": "stderr",
     "output_type": "stream",
     "text": [
      "C:\\Users\\luoco\\Miniconda3\\envs\\fntp\\lib\\site-packages\\huggingface_hub\\file_download.py:133: UserWarning: `huggingface_hub` cache-system uses symlinks by default to efficiently store duplicated files but your machine does not support them in C:\\Users\\luoco\\.cache\\huggingface\\hub. Caching files will still work but in a degraded version that might require more space on your disk. This warning can be disabled by setting the `HF_HUB_DISABLE_SYMLINKS_WARNING` environment variable. For more details, see https://huggingface.co/docs/huggingface_hub/how-to-cache#limitations.\n",
      "To support symlinks on Windows, you either need to activate Developer Mode or to run Python as an administrator. In order to see activate developer mode, see this article: https://docs.microsoft.com/en-us/windows/apps/get-started/enable-your-device-for-development\n",
      "  warnings.warn(message)\n"
     ]
    },
    {
     "data": {
      "application/vnd.jupyter.widget-view+json": {
       "model_id": "53e546239d9642bbbb660c34d4633c47",
       "version_major": 2,
       "version_minor": 0
      },
      "text/plain": [
       "Downloading (…)olve/main/vocab.json:   0%|          | 0.00/798k [00:00<?, ?B/s]"
      ]
     },
     "metadata": {},
     "output_type": "display_data"
    },
    {
     "data": {
      "application/vnd.jupyter.widget-view+json": {
       "model_id": "8717062fd622435d9d870b2bafe4f4a5",
       "version_major": 2,
       "version_minor": 0
      },
      "text/plain": [
       "Downloading (…)olve/main/merges.txt:   0%|          | 0.00/456k [00:00<?, ?B/s]"
      ]
     },
     "metadata": {},
     "output_type": "display_data"
    },
    {
     "data": {
      "application/vnd.jupyter.widget-view+json": {
       "model_id": "6aa80839d2ff48eb9829d89769392fe5",
       "version_major": 2,
       "version_minor": 0
      },
      "text/plain": [
       "Downloading (…)/main/tokenizer.json:   0%|          | 0.00/2.11M [00:00<?, ?B/s]"
      ]
     },
     "metadata": {},
     "output_type": "display_data"
    },
    {
     "data": {
      "application/vnd.jupyter.widget-view+json": {
       "model_id": "ae039b619c2b4cc4a9f4f5d9e9e0491b",
       "version_major": 2,
       "version_minor": 0
      },
      "text/plain": [
       "Downloading (…)cial_tokens_map.json:   0%|          | 0.00/239 [00:00<?, ?B/s]"
      ]
     },
     "metadata": {},
     "output_type": "display_data"
    },
    {
     "data": {
      "application/vnd.jupyter.widget-view+json": {
       "model_id": "ee98dbdb62954d98aac4c22080bec542",
       "version_major": 2,
       "version_minor": 0
      },
      "text/plain": [
       "Downloading (…)lve/main/config.json:   0%|          | 0.00/789 [00:00<?, ?B/s]"
      ]
     },
     "metadata": {},
     "output_type": "display_data"
    },
    {
     "data": {
      "application/vnd.jupyter.widget-view+json": {
       "model_id": "27dab0f64eee4fdebc368f815b66ed57",
       "version_major": 2,
       "version_minor": 0
      },
      "text/plain": [
       "Downloading pytorch_model.bin:   0%|          | 0.00/499M [00:00<?, ?B/s]"
      ]
     },
     "metadata": {},
     "output_type": "display_data"
    }
   ],
   "source": [
    "from transformers import AutoTokenizer, AutoModelForSequenceClassification\n",
    "\n",
    "tokenizer = AutoTokenizer.from_pretrained(\"hamzab/roberta-fake-news-classification\")\n",
    "\n",
    "model = AutoModelForSequenceClassification.from_pretrained(\"hamzab/roberta-fake-news-classification\")"
   ]
  },
  {
   "cell_type": "markdown",
   "id": "5096ad6d",
   "metadata": {},
   "source": [
    "#### Initial test of the model"
   ]
  },
  {
   "cell_type": "code",
   "execution_count": 6,
   "id": "6c79fcd6",
   "metadata": {},
   "outputs": [
    {
     "name": "stdout",
     "output_type": "stream",
     "text": [
      "{'Fake': 5.5498923757113516e-05, 'Real': 0.9999444484710693}\n"
     ]
    },
    {
     "name": "stderr",
     "output_type": "stream",
     "text": [
      "C:\\Users\\luoco\\AppData\\Local\\Temp\\ipykernel_43808\\2965564230.py:9: UserWarning: Implicit dimension choice for softmax has been deprecated. Change the call to include dim=X as an argument.\n",
      "  return dict(zip([\"Fake\",\"Real\"], [x.item() for x in list(torch.nn.Softmax()(output.logits)[0])] ))\n"
     ]
    }
   ],
   "source": [
    "import torch\n",
    "def predict_fake(title,text):\n",
    "    input_str = \"<title>\" + title + \"<content>\" +  text + \"<end>\"\n",
    "    input_ids = tokenizer.encode_plus(input_str, max_length=512, padding=\"max_length\", truncation=True, return_tensors=\"pt\")\n",
    "    device =  'cuda' if torch.cuda.is_available() else 'cpu'\n",
    "    model.to(device)\n",
    "    with torch.no_grad():\n",
    "        output = model(input_ids[\"input_ids\"].to(device), attention_mask=input_ids[\"attention_mask\"].to(device))\n",
    "    return dict(zip([\"Fake\",\"Real\"], [x.item() for x in list(torch.nn.Softmax()(output.logits)[0])] ))\n",
    "    \n",
    "print(predict_fake(\"Covid tests for China travellers to England ending\",\"Travellers flying into England from mainland China will no longer have to provide proof of a negative pre-departure test from next month. The change will come into effect on 5 April - exactly three months after the measures started. Ministers brought in controls after a spike in cases following Beijing's relaxation of its zero-Covid policy. Their removal comes after greater transparency from China, the government said.In a statement, the Department of Health and Social Care (DHSC) said that there has been increased information on testing, vaccination and genomic sequencing results on China's domestic disease levels.The data indicates that Covid variants seen in China continue to be the same as those already circulating in the UK, it added.The Chinese Centre for Disease Control and Prevention also reported that all regions had passed their infection peak, the statement reported.The DHSC also announced that the UK Health Security Agency's (UKHSA) voluntary on-arrival testing programme of travellers from China to Heathrow airport has come to an end.\"))\n",
    "\n",
    "# https://www.bbc.co.uk/news/business-64993197 "
   ]
  },
  {
   "cell_type": "code",
   "execution_count": null,
   "id": "b0f43a89",
   "metadata": {},
   "outputs": [],
   "source": []
  },
  {
   "cell_type": "code",
   "execution_count": null,
   "id": "dcffdf87",
   "metadata": {},
   "outputs": [],
   "source": []
  },
  {
   "cell_type": "code",
   "execution_count": null,
   "id": "32139545",
   "metadata": {},
   "outputs": [],
   "source": []
  },
  {
   "cell_type": "code",
   "execution_count": null,
   "id": "da998773",
   "metadata": {},
   "outputs": [],
   "source": []
  }
 ],
 "metadata": {
  "kernelspec": {
   "display_name": "fntp",
   "language": "python",
   "name": "fntp"
  },
  "language_info": {
   "codemirror_mode": {
    "name": "ipython",
    "version": 3
   },
   "file_extension": ".py",
   "mimetype": "text/x-python",
   "name": "python",
   "nbconvert_exporter": "python",
   "pygments_lexer": "ipython3",
   "version": "3.9.17"
  }
 },
 "nbformat": 4,
 "nbformat_minor": 5
}
