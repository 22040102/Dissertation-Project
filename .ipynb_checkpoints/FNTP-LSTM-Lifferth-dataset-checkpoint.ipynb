{
 "cells": [
  {
   "cell_type": "markdown",
   "id": "3ca9779d",
   "metadata": {},
   "source": [
    "# (1) LSTM Model - Lifferth (2018) Dataset\n",
    "\n",
    "Implementing a LSTM model\n",
    "> REF https://www.kaggle.com/code/jsvishnuj/fakenews-detection-using-lstm-neural-network \n",
    "\n",
    "> Lifferth's (2018) dataset: https://kaggle.com/competitions/fake-news \n",
    "\n",
    "This model is run as an initial trial to see how well my laptop/ device capability I have and how long the model runs during training for future trials and testing in comparison with other datasets and model types.\n",
    "\n",
    "This code is essentially a trial version of an LSTM model which demonstrates understanding how the model is implemented by code. Edits in the code are made where necessary. \n",
    "\n",
    "The code is implemented alongside a GRU model (Gated Recurrent Unit) which is a type of RNN that, in certain cases, has advantages over LSTMs. GRU uses less memory and is faster than LSTM, however, LSTM is more accurate when using datasets with longer sequences."
   ]
  },
  {
   "cell_type": "code",
   "execution_count": 1,
   "id": "c0183bc1",
   "metadata": {},
   "outputs": [
    {
     "name": "stdout",
     "output_type": "stream",
     "text": [
      "Requirement already satisfied: sklearn in c:\\users\\luoco\\miniconda3\\envs\\fntp\\lib\\site-packages (0.0.post5)\n",
      "Note: you may need to restart the kernel to use updated packages.\n"
     ]
    }
   ],
   "source": [
    "pip install sklearn"
   ]
  },
  {
   "cell_type": "code",
   "execution_count": 2,
   "id": "7625b4fa",
   "metadata": {},
   "outputs": [
    {
     "name": "stdout",
     "output_type": "stream",
     "text": [
      "Requirement already satisfied: matplot in c:\\users\\luoco\\miniconda3\\envs\\fntp\\lib\\site-packages (0.1.9)\n",
      "Requirement already satisfied: lib in c:\\users\\luoco\\miniconda3\\envs\\fntp\\lib\\site-packages (4.0.0)\n",
      "Requirement already satisfied: pyloco>=0.0.134 in c:\\users\\luoco\\miniconda3\\envs\\fntp\\lib\\site-packages (from matplot) (0.0.139)\n",
      "Requirement already satisfied: matplotlib>=3.1.1 in c:\\users\\luoco\\miniconda3\\envs\\fntp\\lib\\site-packages (from matplot) (3.7.2)\n",
      "Requirement already satisfied: contourpy>=1.0.1 in c:\\users\\luoco\\miniconda3\\envs\\fntp\\lib\\site-packages (from matplotlib>=3.1.1->matplot) (1.1.0)\n",
      "Requirement already satisfied: cycler>=0.10 in c:\\users\\luoco\\miniconda3\\envs\\fntp\\lib\\site-packages (from matplotlib>=3.1.1->matplot) (0.11.0)\n",
      "Requirement already satisfied: fonttools>=4.22.0 in c:\\users\\luoco\\miniconda3\\envs\\fntp\\lib\\site-packages (from matplotlib>=3.1.1->matplot) (4.41.0)\n",
      "Requirement already satisfied: kiwisolver>=1.0.1 in c:\\users\\luoco\\miniconda3\\envs\\fntp\\lib\\site-packages (from matplotlib>=3.1.1->matplot) (1.4.4)\n",
      "Requirement already satisfied: numpy>=1.20 in c:\\users\\luoco\\miniconda3\\envs\\fntp\\lib\\site-packages (from matplotlib>=3.1.1->matplot) (1.24.3)\n",
      "Requirement already satisfied: packaging>=20.0 in c:\\users\\luoco\\miniconda3\\envs\\fntp\\lib\\site-packages (from matplotlib>=3.1.1->matplot) (23.1)\n",
      "Requirement already satisfied: pillow>=6.2.0 in c:\\users\\luoco\\miniconda3\\envs\\fntp\\lib\\site-packages (from matplotlib>=3.1.1->matplot) (10.0.0)\n",
      "Requirement already satisfied: pyparsing<3.1,>=2.3.1 in c:\\users\\luoco\\miniconda3\\envs\\fntp\\lib\\site-packages (from matplotlib>=3.1.1->matplot) (3.0.9)\n",
      "Requirement already satisfied: python-dateutil>=2.7 in c:\\users\\luoco\\miniconda3\\envs\\fntp\\lib\\site-packages (from matplotlib>=3.1.1->matplot) (2.8.2)\n",
      "Requirement already satisfied: importlib-resources>=3.2.0 in c:\\users\\luoco\\miniconda3\\envs\\fntp\\lib\\site-packages (from matplotlib>=3.1.1->matplot) (6.0.0)\n",
      "Requirement already satisfied: ushlex in c:\\users\\luoco\\miniconda3\\envs\\fntp\\lib\\site-packages (from pyloco>=0.0.134->matplot) (0.99.1)\n",
      "Requirement already satisfied: websocket-client in c:\\users\\luoco\\miniconda3\\envs\\fntp\\lib\\site-packages (from pyloco>=0.0.134->matplot) (1.6.1)\n",
      "Requirement already satisfied: twine in c:\\users\\luoco\\miniconda3\\envs\\fntp\\lib\\site-packages (from pyloco>=0.0.134->matplot) (4.0.2)\n",
      "Requirement already satisfied: typing in c:\\users\\luoco\\miniconda3\\envs\\fntp\\lib\\site-packages (from pyloco>=0.0.134->matplot) (3.7.4.3)\n",
      "Requirement already satisfied: SimpleWebSocketServer in c:\\users\\luoco\\miniconda3\\envs\\fntp\\lib\\site-packages (from pyloco>=0.0.134->matplot) (0.1.2)\n",
      "Requirement already satisfied: zipp>=3.1.0 in c:\\users\\luoco\\miniconda3\\envs\\fntp\\lib\\site-packages (from importlib-resources>=3.2.0->matplotlib>=3.1.1->matplot) (3.16.0)\n",
      "Requirement already satisfied: six>=1.5 in c:\\users\\luoco\\miniconda3\\envs\\fntp\\lib\\site-packages (from python-dateutil>=2.7->matplotlib>=3.1.1->matplot) (1.16.0)\n",
      "Requirement already satisfied: pkginfo>=1.8.1 in c:\\users\\luoco\\miniconda3\\envs\\fntp\\lib\\site-packages (from twine->pyloco>=0.0.134->matplot) (1.9.6)\n",
      "Requirement already satisfied: readme-renderer>=35.0 in c:\\users\\luoco\\miniconda3\\envs\\fntp\\lib\\site-packages (from twine->pyloco>=0.0.134->matplot) (40.0)\n",
      "Requirement already satisfied: requests>=2.20 in c:\\users\\luoco\\miniconda3\\envs\\fntp\\lib\\site-packages (from twine->pyloco>=0.0.134->matplot) (2.31.0)\n",
      "Requirement already satisfied: requests-toolbelt!=0.9.0,>=0.8.0 in c:\\users\\luoco\\miniconda3\\envs\\fntp\\lib\\site-packages (from twine->pyloco>=0.0.134->matplot) (1.0.0)\n",
      "Requirement already satisfied: urllib3>=1.26.0 in c:\\users\\luoco\\miniconda3\\envs\\fntp\\lib\\site-packages (from twine->pyloco>=0.0.134->matplot) (1.26.16)\n",
      "Requirement already satisfied: importlib-metadata>=3.6 in c:\\users\\luoco\\miniconda3\\envs\\fntp\\lib\\site-packages (from twine->pyloco>=0.0.134->matplot) (6.8.0)\n",
      "Requirement already satisfied: keyring>=15.1 in c:\\users\\luoco\\miniconda3\\envs\\fntp\\lib\\site-packages (from twine->pyloco>=0.0.134->matplot) (24.2.0)\n",
      "Requirement already satisfied: rfc3986>=1.4.0 in c:\\users\\luoco\\miniconda3\\envs\\fntp\\lib\\site-packages (from twine->pyloco>=0.0.134->matplot) (2.0.0)\n",
      "Requirement already satisfied: rich>=12.0.0 in c:\\users\\luoco\\miniconda3\\envs\\fntp\\lib\\site-packages (from twine->pyloco>=0.0.134->matplot) (13.4.2)\n",
      "Requirement already satisfied: jaraco.classes in c:\\users\\luoco\\miniconda3\\envs\\fntp\\lib\\site-packages (from keyring>=15.1->twine->pyloco>=0.0.134->matplot) (3.3.0)\n",
      "Requirement already satisfied: pywin32-ctypes>=0.2.0 in c:\\users\\luoco\\miniconda3\\envs\\fntp\\lib\\site-packages (from keyring>=15.1->twine->pyloco>=0.0.134->matplot) (0.2.2)\n",
      "Requirement already satisfied: bleach>=2.1.0 in c:\\users\\luoco\\miniconda3\\envs\\fntp\\lib\\site-packages (from readme-renderer>=35.0->twine->pyloco>=0.0.134->matplot) (6.0.0)\n",
      "Requirement already satisfied: docutils>=0.13.1 in c:\\users\\luoco\\miniconda3\\envs\\fntp\\lib\\site-packages (from readme-renderer>=35.0->twine->pyloco>=0.0.134->matplot) (0.20.1)\n",
      "Requirement already satisfied: Pygments>=2.5.1 in c:\\users\\luoco\\miniconda3\\envs\\fntp\\lib\\site-packages (from readme-renderer>=35.0->twine->pyloco>=0.0.134->matplot) (2.15.1)\n",
      "Requirement already satisfied: charset-normalizer<4,>=2 in c:\\users\\luoco\\miniconda3\\envs\\fntp\\lib\\site-packages (from requests>=2.20->twine->pyloco>=0.0.134->matplot) (3.2.0)\n",
      "Requirement already satisfied: idna<4,>=2.5 in c:\\users\\luoco\\miniconda3\\envs\\fntp\\lib\\site-packages (from requests>=2.20->twine->pyloco>=0.0.134->matplot) (3.4)\n",
      "Requirement already satisfied: certifi>=2017.4.17 in c:\\users\\luoco\\miniconda3\\envs\\fntp\\lib\\site-packages (from requests>=2.20->twine->pyloco>=0.0.134->matplot) (2023.5.7)\n",
      "Requirement already satisfied: markdown-it-py>=2.2.0 in c:\\users\\luoco\\miniconda3\\envs\\fntp\\lib\\site-packages (from rich>=12.0.0->twine->pyloco>=0.0.134->matplot) (3.0.0)\n",
      "Requirement already satisfied: webencodings in c:\\users\\luoco\\miniconda3\\envs\\fntp\\lib\\site-packages (from bleach>=2.1.0->readme-renderer>=35.0->twine->pyloco>=0.0.134->matplot) (0.5.1)\n",
      "Requirement already satisfied: mdurl~=0.1 in c:\\users\\luoco\\miniconda3\\envs\\fntp\\lib\\site-packages (from markdown-it-py>=2.2.0->rich>=12.0.0->twine->pyloco>=0.0.134->matplot) (0.1.2)\n",
      "Requirement already satisfied: more-itertools in c:\\users\\luoco\\miniconda3\\envs\\fntp\\lib\\site-packages (from jaraco.classes->keyring>=15.1->twine->pyloco>=0.0.134->matplot) (9.1.0)\n",
      "Note: you may need to restart the kernel to use updated packages.\n"
     ]
    }
   ],
   "source": [
    "pip install matplot lib"
   ]
  },
  {
   "cell_type": "code",
   "execution_count": 3,
   "id": "f3fabb31",
   "metadata": {},
   "outputs": [],
   "source": [
    "# importing necessary libraries \n",
    "import pandas as pd\n",
    "import tensorflow as tf\n",
    "import os\n",
    "import re\n",
    "import numpy as np\n",
    "from string import punctuation\n",
    "from zipfile import ZipFile\n",
    "from sklearn.model_selection import train_test_split\n",
    "import matplotlib.pyplot as plt"
   ]
  },
  {
   "cell_type": "code",
   "execution_count": 4,
   "id": "ff86aab5",
   "metadata": {},
   "outputs": [],
   "source": [
    "# importing neural network libraries\n",
    "import tensorflow as tf\n",
    "from tensorflow.keras.preprocessing.text import Tokenizer\n",
    "from tensorflow.keras.preprocessing.sequence import pad_sequences\n",
    "from tensorflow.keras.models import Sequential\n",
    "from tensorflow.keras.layers import Dense, Dropout, Embedding, GRU, LSTM, RNN, SpatialDropout1D"
   ]
  },
  {
   "cell_type": "code",
   "execution_count": 5,
   "id": "ee867460",
   "metadata": {},
   "outputs": [],
   "source": [
    "#applying the test and train data accordingly.\n",
    "\n",
    "train = pd.read_csv(r'C:\\Users\\luoco\\Documents\\Dissertation-Project\\fake-news-data\\LSTM-data\\train.csv\\train.csv')\n",
    "test = pd.read_csv(r'C:\\Users\\luoco\\Documents\\Dissertation-Project\\fake-news-data\\LSTM-data\\test.csv\\test.csv')\n",
    "train_data = train.copy()\n",
    "test_data = test.copy()"
   ]
  },
  {
   "cell_type": "code",
   "execution_count": 6,
   "id": "6837948b",
   "metadata": {},
   "outputs": [],
   "source": [
    "#dropping the id column\n",
    "train_data = train_data.set_index('id', drop = True)"
   ]
  },
  {
   "cell_type": "code",
   "execution_count": 7,
   "id": "ee79eeb1",
   "metadata": {},
   "outputs": [
    {
     "name": "stdout",
     "output_type": "stream",
     "text": [
      "(20800, 4)\n"
     ]
    },
    {
     "data": {
      "text/html": [
       "<div>\n",
       "<style scoped>\n",
       "    .dataframe tbody tr th:only-of-type {\n",
       "        vertical-align: middle;\n",
       "    }\n",
       "\n",
       "    .dataframe tbody tr th {\n",
       "        vertical-align: top;\n",
       "    }\n",
       "\n",
       "    .dataframe thead th {\n",
       "        text-align: right;\n",
       "    }\n",
       "</style>\n",
       "<table border=\"1\" class=\"dataframe\">\n",
       "  <thead>\n",
       "    <tr style=\"text-align: right;\">\n",
       "      <th></th>\n",
       "      <th>title</th>\n",
       "      <th>author</th>\n",
       "      <th>text</th>\n",
       "      <th>label</th>\n",
       "    </tr>\n",
       "    <tr>\n",
       "      <th>id</th>\n",
       "      <th></th>\n",
       "      <th></th>\n",
       "      <th></th>\n",
       "      <th></th>\n",
       "    </tr>\n",
       "  </thead>\n",
       "  <tbody>\n",
       "    <tr>\n",
       "      <th>0</th>\n",
       "      <td>House Dem Aide: We Didn’t Even See Comey’s Let...</td>\n",
       "      <td>Darrell Lucus</td>\n",
       "      <td>House Dem Aide: We Didn’t Even See Comey’s Let...</td>\n",
       "      <td>1</td>\n",
       "    </tr>\n",
       "    <tr>\n",
       "      <th>1</th>\n",
       "      <td>FLYNN: Hillary Clinton, Big Woman on Campus - ...</td>\n",
       "      <td>Daniel J. Flynn</td>\n",
       "      <td>Ever get the feeling your life circles the rou...</td>\n",
       "      <td>0</td>\n",
       "    </tr>\n",
       "    <tr>\n",
       "      <th>2</th>\n",
       "      <td>Why the Truth Might Get You Fired</td>\n",
       "      <td>Consortiumnews.com</td>\n",
       "      <td>Why the Truth Might Get You Fired October 29, ...</td>\n",
       "      <td>1</td>\n",
       "    </tr>\n",
       "    <tr>\n",
       "      <th>3</th>\n",
       "      <td>15 Civilians Killed In Single US Airstrike Hav...</td>\n",
       "      <td>Jessica Purkiss</td>\n",
       "      <td>Videos 15 Civilians Killed In Single US Airstr...</td>\n",
       "      <td>1</td>\n",
       "    </tr>\n",
       "    <tr>\n",
       "      <th>4</th>\n",
       "      <td>Iranian woman jailed for fictional unpublished...</td>\n",
       "      <td>Howard Portnoy</td>\n",
       "      <td>Print \\nAn Iranian woman has been sentenced to...</td>\n",
       "      <td>1</td>\n",
       "    </tr>\n",
       "  </tbody>\n",
       "</table>\n",
       "</div>"
      ],
      "text/plain": [
       "                                                title              author  \\\n",
       "id                                                                          \n",
       "0   House Dem Aide: We Didn’t Even See Comey’s Let...       Darrell Lucus   \n",
       "1   FLYNN: Hillary Clinton, Big Woman on Campus - ...     Daniel J. Flynn   \n",
       "2                   Why the Truth Might Get You Fired  Consortiumnews.com   \n",
       "3   15 Civilians Killed In Single US Airstrike Hav...     Jessica Purkiss   \n",
       "4   Iranian woman jailed for fictional unpublished...      Howard Portnoy   \n",
       "\n",
       "                                                 text  label  \n",
       "id                                                            \n",
       "0   House Dem Aide: We Didn’t Even See Comey’s Let...      1  \n",
       "1   Ever get the feeling your life circles the rou...      0  \n",
       "2   Why the Truth Might Get You Fired October 29, ...      1  \n",
       "3   Videos 15 Civilians Killed In Single US Airstr...      1  \n",
       "4   Print \\nAn Iranian woman has been sentenced to...      1  "
      ]
     },
     "execution_count": 7,
     "metadata": {},
     "output_type": "execute_result"
    }
   ],
   "source": [
    "#printing shape and showing df headings of the training set\n",
    "print(train_data.shape)\n",
    "train_data.head()"
   ]
  },
  {
   "cell_type": "code",
   "execution_count": 8,
   "id": "340c2755",
   "metadata": {},
   "outputs": [
    {
     "name": "stdout",
     "output_type": "stream",
     "text": [
      "(5200, 4)\n"
     ]
    },
    {
     "data": {
      "text/html": [
       "<div>\n",
       "<style scoped>\n",
       "    .dataframe tbody tr th:only-of-type {\n",
       "        vertical-align: middle;\n",
       "    }\n",
       "\n",
       "    .dataframe tbody tr th {\n",
       "        vertical-align: top;\n",
       "    }\n",
       "\n",
       "    .dataframe thead th {\n",
       "        text-align: right;\n",
       "    }\n",
       "</style>\n",
       "<table border=\"1\" class=\"dataframe\">\n",
       "  <thead>\n",
       "    <tr style=\"text-align: right;\">\n",
       "      <th></th>\n",
       "      <th>id</th>\n",
       "      <th>title</th>\n",
       "      <th>author</th>\n",
       "      <th>text</th>\n",
       "    </tr>\n",
       "  </thead>\n",
       "  <tbody>\n",
       "    <tr>\n",
       "      <th>0</th>\n",
       "      <td>20800</td>\n",
       "      <td>Specter of Trump Loosens Tongues, if Not Purse...</td>\n",
       "      <td>David Streitfeld</td>\n",
       "      <td>PALO ALTO, Calif.  —   After years of scorning...</td>\n",
       "    </tr>\n",
       "    <tr>\n",
       "      <th>1</th>\n",
       "      <td>20801</td>\n",
       "      <td>Russian warships ready to strike terrorists ne...</td>\n",
       "      <td>NaN</td>\n",
       "      <td>Russian warships ready to strike terrorists ne...</td>\n",
       "    </tr>\n",
       "    <tr>\n",
       "      <th>2</th>\n",
       "      <td>20802</td>\n",
       "      <td>#NoDAPL: Native American Leaders Vow to Stay A...</td>\n",
       "      <td>Common Dreams</td>\n",
       "      <td>Videos #NoDAPL: Native American Leaders Vow to...</td>\n",
       "    </tr>\n",
       "    <tr>\n",
       "      <th>3</th>\n",
       "      <td>20803</td>\n",
       "      <td>Tim Tebow Will Attempt Another Comeback, This ...</td>\n",
       "      <td>Daniel Victor</td>\n",
       "      <td>If at first you don’t succeed, try a different...</td>\n",
       "    </tr>\n",
       "    <tr>\n",
       "      <th>4</th>\n",
       "      <td>20804</td>\n",
       "      <td>Keiser Report: Meme Wars (E995)</td>\n",
       "      <td>Truth Broadcast Network</td>\n",
       "      <td>42 mins ago 1 Views 0 Comments 0 Likes 'For th...</td>\n",
       "    </tr>\n",
       "  </tbody>\n",
       "</table>\n",
       "</div>"
      ],
      "text/plain": [
       "      id                                              title  \\\n",
       "0  20800  Specter of Trump Loosens Tongues, if Not Purse...   \n",
       "1  20801  Russian warships ready to strike terrorists ne...   \n",
       "2  20802  #NoDAPL: Native American Leaders Vow to Stay A...   \n",
       "3  20803  Tim Tebow Will Attempt Another Comeback, This ...   \n",
       "4  20804                    Keiser Report: Meme Wars (E995)   \n",
       "\n",
       "                    author                                               text  \n",
       "0         David Streitfeld  PALO ALTO, Calif.  —   After years of scorning...  \n",
       "1                      NaN  Russian warships ready to strike terrorists ne...  \n",
       "2            Common Dreams  Videos #NoDAPL: Native American Leaders Vow to...  \n",
       "3            Daniel Victor  If at first you don’t succeed, try a different...  \n",
       "4  Truth Broadcast Network  42 mins ago 1 Views 0 Comments 0 Likes 'For th...  "
      ]
     },
     "execution_count": 8,
     "metadata": {},
     "output_type": "execute_result"
    }
   ],
   "source": [
    "##printing shape and showing df headings of the test set, making sure they are different.\n",
    "print(test_data.shape)\n",
    "test_data.head()"
   ]
  },
  {
   "cell_type": "code",
   "execution_count": 9,
   "id": "d5df1293",
   "metadata": {},
   "outputs": [
    {
     "data": {
      "text/plain": [
       "title      558\n",
       "author    1957\n",
       "text        39\n",
       "label        0\n",
       "dtype: int64"
      ]
     },
     "execution_count": 9,
     "metadata": {},
     "output_type": "execute_result"
    }
   ],
   "source": [
    "#checking for missing values\n",
    "train_data.isnull().sum()"
   ]
  },
  {
   "cell_type": "code",
   "execution_count": 10,
   "id": "baf88445",
   "metadata": {},
   "outputs": [
    {
     "data": {
      "text/plain": [
       "title     0\n",
       "author    0\n",
       "text      0\n",
       "label     0\n",
       "dtype: int64"
      ]
     },
     "execution_count": 10,
     "metadata": {},
     "output_type": "execute_result"
    }
   ],
   "source": [
    "#dropping missing values from text type of columns only. Dropping anything else. \n",
    "train_data[['title', 'author']] = train_data[['title', 'author']].fillna(value = 'Missing')\n",
    "train_data = train_data.dropna()\n",
    "train_data.isnull().sum()"
   ]
  },
  {
   "cell_type": "code",
   "execution_count": 11,
   "id": "4f36e387",
   "metadata": {},
   "outputs": [
    {
     "data": {
      "text/html": [
       "<div>\n",
       "<style scoped>\n",
       "    .dataframe tbody tr th:only-of-type {\n",
       "        vertical-align: middle;\n",
       "    }\n",
       "\n",
       "    .dataframe tbody tr th {\n",
       "        vertical-align: top;\n",
       "    }\n",
       "\n",
       "    .dataframe thead th {\n",
       "        text-align: right;\n",
       "    }\n",
       "</style>\n",
       "<table border=\"1\" class=\"dataframe\">\n",
       "  <thead>\n",
       "    <tr style=\"text-align: right;\">\n",
       "      <th></th>\n",
       "      <th>title</th>\n",
       "      <th>author</th>\n",
       "      <th>text</th>\n",
       "      <th>label</th>\n",
       "      <th>length</th>\n",
       "    </tr>\n",
       "    <tr>\n",
       "      <th>id</th>\n",
       "      <th></th>\n",
       "      <th></th>\n",
       "      <th></th>\n",
       "      <th></th>\n",
       "      <th></th>\n",
       "    </tr>\n",
       "  </thead>\n",
       "  <tbody>\n",
       "    <tr>\n",
       "      <th>0</th>\n",
       "      <td>House Dem Aide: We Didn’t Even See Comey’s Let...</td>\n",
       "      <td>Darrell Lucus</td>\n",
       "      <td>House Dem Aide: We Didn’t Even See Comey’s Let...</td>\n",
       "      <td>1</td>\n",
       "      <td>4930</td>\n",
       "    </tr>\n",
       "    <tr>\n",
       "      <th>1</th>\n",
       "      <td>FLYNN: Hillary Clinton, Big Woman on Campus - ...</td>\n",
       "      <td>Daniel J. Flynn</td>\n",
       "      <td>Ever get the feeling your life circles the rou...</td>\n",
       "      <td>0</td>\n",
       "      <td>4160</td>\n",
       "    </tr>\n",
       "    <tr>\n",
       "      <th>2</th>\n",
       "      <td>Why the Truth Might Get You Fired</td>\n",
       "      <td>Consortiumnews.com</td>\n",
       "      <td>Why the Truth Might Get You Fired October 29, ...</td>\n",
       "      <td>1</td>\n",
       "      <td>7692</td>\n",
       "    </tr>\n",
       "    <tr>\n",
       "      <th>3</th>\n",
       "      <td>15 Civilians Killed In Single US Airstrike Hav...</td>\n",
       "      <td>Jessica Purkiss</td>\n",
       "      <td>Videos 15 Civilians Killed In Single US Airstr...</td>\n",
       "      <td>1</td>\n",
       "      <td>3237</td>\n",
       "    </tr>\n",
       "    <tr>\n",
       "      <th>4</th>\n",
       "      <td>Iranian woman jailed for fictional unpublished...</td>\n",
       "      <td>Howard Portnoy</td>\n",
       "      <td>Print \\nAn Iranian woman has been sentenced to...</td>\n",
       "      <td>1</td>\n",
       "      <td>938</td>\n",
       "    </tr>\n",
       "  </tbody>\n",
       "</table>\n",
       "</div>"
      ],
      "text/plain": [
       "                                                title              author  \\\n",
       "id                                                                          \n",
       "0   House Dem Aide: We Didn’t Even See Comey’s Let...       Darrell Lucus   \n",
       "1   FLYNN: Hillary Clinton, Big Woman on Campus - ...     Daniel J. Flynn   \n",
       "2                   Why the Truth Might Get You Fired  Consortiumnews.com   \n",
       "3   15 Civilians Killed In Single US Airstrike Hav...     Jessica Purkiss   \n",
       "4   Iranian woman jailed for fictional unpublished...      Howard Portnoy   \n",
       "\n",
       "                                                 text  label  length  \n",
       "id                                                                    \n",
       "0   House Dem Aide: We Didn’t Even See Comey’s Let...      1    4930  \n",
       "1   Ever get the feeling your life circles the rou...      0    4160  \n",
       "2   Why the Truth Might Get You Fired October 29, ...      1    7692  \n",
       "3   Videos 15 Civilians Killed In Single US Airstr...      1    3237  \n",
       "4   Print \\nAn Iranian woman has been sentenced to...      1     938  "
      ]
     },
     "execution_count": 11,
     "metadata": {},
     "output_type": "execute_result"
    }
   ],
   "source": [
    "#adding a 'length' heading applied to the text string.\n",
    "length = []\n",
    "[length.append(len(str(text))) for text in train_data['text']]\n",
    "train_data['length'] = length\n",
    "train_data.head()"
   ]
  },
  {
   "cell_type": "code",
   "execution_count": 12,
   "id": "dc9a300b",
   "metadata": {},
   "outputs": [
    {
     "data": {
      "text/plain": [
       "(1, 142961, 4553)"
      ]
     },
     "execution_count": 12,
     "metadata": {},
     "output_type": "execute_result"
    }
   ],
   "source": [
    "min(train_data['length']), max(train_data['length']), round(sum(train_data['length'])/len(train_data['length']))"
   ]
  },
  {
   "cell_type": "code",
   "execution_count": 13,
   "id": "05988aa3",
   "metadata": {},
   "outputs": [
    {
     "data": {
      "text/plain": [
       "207"
      ]
     },
     "execution_count": 13,
     "metadata": {},
     "output_type": "execute_result"
    }
   ],
   "source": [
    "len(train_data[train_data['length'] < 50])"
   ]
  },
  {
   "cell_type": "code",
   "execution_count": 14,
   "id": "47227963",
   "metadata": {},
   "outputs": [
    {
     "data": {
      "text/plain": [
       "id\n",
       "82                                                   \n",
       "169                                                  \n",
       "173                                   Guest   Guest  \n",
       "196            They got the heater turned up on high.\n",
       "295                                                  \n",
       "                             ...                     \n",
       "20350                         I hope nobody got hurt!\n",
       "20418                                 Guest   Guest  \n",
       "20431    \\nOctober 28, 2016 The Mothers by stclair by\n",
       "20513                                                \n",
       "20636                              Trump all the way!\n",
       "Name: text, Length: 207, dtype: object"
      ]
     },
     "execution_count": 14,
     "metadata": {},
     "output_type": "execute_result"
    }
   ],
   "source": [
    "train_data['text'][train_data['length'] < 50]"
   ]
  },
  {
   "cell_type": "code",
   "execution_count": 15,
   "id": "36daff27",
   "metadata": {},
   "outputs": [],
   "source": [
    "#dropping any of the outliers\n",
    "train_data = train_data.drop(train_data['text'][train_data['length'] < 50].index, axis = 0)"
   ]
  },
  {
   "cell_type": "code",
   "execution_count": 16,
   "id": "f2261f16",
   "metadata": {},
   "outputs": [
    {
     "data": {
      "text/plain": [
       "(50, 142961, 4598)"
      ]
     },
     "execution_count": 16,
     "metadata": {},
     "output_type": "execute_result"
    }
   ],
   "source": [
    "min(train_data['length']), max(train_data['length']), round(sum(train_data['length'])/len(train_data['length']))"
   ]
  },
  {
   "cell_type": "code",
   "execution_count": 17,
   "id": "2064ff69",
   "metadata": {},
   "outputs": [],
   "source": [
    "max_features = 4500"
   ]
  },
  {
   "cell_type": "code",
   "execution_count": 18,
   "id": "f2ec49f7",
   "metadata": {},
   "outputs": [],
   "source": [
    "#Tokenizing the text - i.e. we are converting the words and or letters into counts or numbers. \n",
    "# We dont need to explicitly remove the punctuations. There is an inbuilt option in Tokenizer for this exact purpose\n",
    "tokenizer = Tokenizer(num_words = max_features, filters='!\"#$%&()*+,-./:;<=>?@[\\\\]^_`{|}~\\t\\n', lower = True, split = ' ')\n",
    "tokenizer.fit_on_texts(texts = train_data['text'])\n",
    "X = tokenizer.texts_to_sequences(texts = train_data['text'])"
   ]
  },
  {
   "cell_type": "code",
   "execution_count": 19,
   "id": "70097e27",
   "metadata": {},
   "outputs": [],
   "source": [
    "# now applying padding to make them even shaped.\n",
    "X = pad_sequences(sequences = X, maxlen = max_features, padding = 'pre')"
   ]
  },
  {
   "cell_type": "code",
   "execution_count": 20,
   "id": "254be833",
   "metadata": {},
   "outputs": [
    {
     "name": "stdout",
     "output_type": "stream",
     "text": [
      "(20554, 4500)\n",
      "(20554,)\n"
     ]
    }
   ],
   "source": [
    "print(X.shape)\n",
    "y = train_data['label'].values\n",
    "print(y.shape)"
   ]
  },
  {
   "cell_type": "code",
   "execution_count": 21,
   "id": "d0e7d399",
   "metadata": {},
   "outputs": [],
   "source": [
    "# splitting the data training data for training and validation.\n",
    "X_train, X_test, y_train, y_test = train_test_split(X, y, test_size = 0.2, random_state = 101)"
   ]
  },
  {
   "cell_type": "code",
   "execution_count": 22,
   "id": "978a9bcc",
   "metadata": {},
   "outputs": [],
   "source": [
    "# LSTM Neural Network\n",
    "lstm_model = Sequential(name = 'lstm_nn_model')\n",
    "lstm_model.add(layer = Embedding(input_dim = max_features, output_dim = 120, name = '1st_layer'))\n",
    "lstm_model.add(layer = LSTM(units = 120, dropout = 0.2, recurrent_dropout = 0.2, name = '2nd_layer'))\n",
    "lstm_model.add(layer = Dropout(rate = 0.5, name = '3rd_layer'))\n",
    "lstm_model.add(layer = Dense(units = 120,  activation = 'relu', name = '4th_layer'))\n",
    "lstm_model.add(layer = Dropout(rate = 0.5, name = '5th_layer'))\n",
    "lstm_model.add(layer = Dense(units = len(set(y)),  activation = 'sigmoid', name = 'output_layer'))\n",
    "# compiling the model\n",
    "lstm_model.compile(optimizer = 'adam', loss = 'sparse_categorical_crossentropy', metrics = ['accuracy'])"
   ]
  },
  {
   "cell_type": "code",
   "execution_count": 23,
   "id": "0177a3ee",
   "metadata": {
    "scrolled": false
   },
   "outputs": [
    {
     "name": "stdout",
     "output_type": "stream",
     "text": [
      "514/514 [==============================] - 191485s 373s/step - loss: 0.4574 - accuracy: 0.8016\n"
     ]
    }
   ],
   "source": [
    "lstm_model_fit = lstm_model.fit(X_train, y_train, epochs = 1)"
   ]
  },
  {
   "cell_type": "markdown",
   "id": "6fe5eb24",
   "metadata": {},
   "source": [
    "#### One Epoch (cycle) took around 48hrs.\n",
    "#### loss: 0.4574 \n",
    "#### accuracy: 0.8016 \n",
    "Accuracy statistic could be better, as for the loss which could also be less."
   ]
  },
  {
   "cell_type": "markdown",
   "id": "2aa30c7f",
   "metadata": {},
   "source": [
    "# ___________________________________________________________________"
   ]
  },
  {
   "cell_type": "markdown",
   "id": "21c947db",
   "metadata": {},
   "source": [
    "### GRU model implementation"
   ]
  },
  {
   "cell_type": "code",
   "execution_count": 38,
   "id": "9a18a212",
   "metadata": {},
   "outputs": [],
   "source": [
    "# GRU neural Network\n",
    "gru_model = Sequential(name = 'gru_nn_model')\n",
    "gru_model.add(layer = Embedding(input_dim = max_features, output_dim = 120, name = '1st_layer'))\n",
    "gru_model.add(layer = GRU(units = 120, dropout = 0.2, \n",
    "                          recurrent_dropout = 0.2, recurrent_activation = 'relu', \n",
    "                          activation = 'relu', name = '2nd_layer'))\n",
    "gru_model.add(layer = Dropout(rate = 0.4, name = '3rd_layer'))\n",
    "gru_model.add(layer = Dense(units = 120, activation = 'relu', name = '4th_layer'))\n",
    "gru_model.add(layer = Dropout(rate = 0.2, name = '5th_layer'))\n",
    "gru_model.add(layer = Dense(units = len(set(y)), activation = 'softmax', name = 'output_layer'))\n",
    "# compiling the model\n",
    "gru_model.compile(optimizer = 'adam', loss = 'sparse_categorical_crossentropy', metrics = ['accuracy'])"
   ]
  },
  {
   "cell_type": "code",
   "execution_count": 39,
   "id": "d8eba12d",
   "metadata": {},
   "outputs": [
    {
     "name": "stdout",
     "output_type": "stream",
     "text": [
      "Model: \"gru_nn_model\"\n",
      "_________________________________________________________________\n",
      " Layer (type)                Output Shape              Param #   \n",
      "=================================================================\n",
      " 1st_layer (Embedding)       (None, None, 120)         540000    \n",
      "                                                                 \n",
      " 2nd_layer (GRU)             (None, 120)               87120     \n",
      "                                                                 \n",
      " 3rd_layer (Dropout)         (None, 120)               0         \n",
      "                                                                 \n",
      " 4th_layer (Dense)           (None, 120)               14520     \n",
      "                                                                 \n",
      " 5th_layer (Dropout)         (None, 120)               0         \n",
      "                                                                 \n",
      " output_layer (Dense)        (None, 2)                 242       \n",
      "                                                                 \n",
      "=================================================================\n",
      "Total params: 641882 (2.45 MB)\n",
      "Trainable params: 641882 (2.45 MB)\n",
      "Non-trainable params: 0 (0.00 Byte)\n",
      "_________________________________________________________________\n"
     ]
    }
   ],
   "source": [
    "gru_model.summary()"
   ]
  },
  {
   "cell_type": "code",
   "execution_count": 40,
   "id": "8ca1674f",
   "metadata": {},
   "outputs": [
    {
     "name": "stdout",
     "output_type": "stream",
     "text": [
      "514/514 [==============================] - 155554s 303s/step - loss: nan - accuracy: 0.5576\n"
     ]
    }
   ],
   "source": [
    "gru_model_fit = gru_model.fit(X_train, y_train, epochs = 1)"
   ]
  },
  {
   "cell_type": "markdown",
   "id": "bad2ff18",
   "metadata": {},
   "source": [
    "#### Again, took around 36-48hrs \n",
    "(Finished overnight, so this is a guess for the exact time it took to complete one epoch of training. \n",
    "#### loss: nan \n",
    "#### accuracy: 0.5576\n",
    "Accuracy is a lot worse on the same dataset as before. I imagine running this through a longer training period/ more epochs would improve this accuracy, but for the purpose of time and relevant work to implemented, I will not run a the GRU model again. "
   ]
  },
  {
   "cell_type": "code",
   "execution_count": 41,
   "id": "bfbe0f4a",
   "metadata": {},
   "outputs": [
    {
     "name": "stdout",
     "output_type": "stream",
     "text": [
      "(5200, 4)\n",
      "(5200, 4)\n"
     ]
    }
   ],
   "source": [
    "print(test.shape)\n",
    "test_data = test.copy()\n",
    "print(test_data.shape)"
   ]
  },
  {
   "cell_type": "code",
   "execution_count": 42,
   "id": "1616e2e2",
   "metadata": {},
   "outputs": [
    {
     "data": {
      "text/plain": [
       "(5200, 3)"
      ]
     },
     "execution_count": 42,
     "metadata": {},
     "output_type": "execute_result"
    }
   ],
   "source": [
    "test_data = test_data.set_index('id', drop = True)\n",
    "test_data.shape"
   ]
  },
  {
   "cell_type": "code",
   "execution_count": 43,
   "id": "048ed823",
   "metadata": {},
   "outputs": [
    {
     "name": "stdout",
     "output_type": "stream",
     "text": [
      "(5200, 3)\n"
     ]
    },
    {
     "data": {
      "text/plain": [
       "title     0\n",
       "author    0\n",
       "text      0\n",
       "dtype: int64"
      ]
     },
     "execution_count": 43,
     "metadata": {},
     "output_type": "execute_result"
    }
   ],
   "source": [
    "test_data = test_data.fillna(' ')\n",
    "print(test_data.shape)\n",
    "test_data.isnull().sum()"
   ]
  },
  {
   "cell_type": "code",
   "execution_count": 44,
   "id": "76478396",
   "metadata": {},
   "outputs": [],
   "source": [
    "tokenizer.fit_on_texts(texts = test_data['text'])\n",
    "test_text = tokenizer.texts_to_sequences(texts = test_data['text'])"
   ]
  },
  {
   "cell_type": "code",
   "execution_count": 45,
   "id": "9032963b",
   "metadata": {},
   "outputs": [],
   "source": [
    "test_text = pad_sequences(sequences = test_text, maxlen = max_features, padding = 'pre')"
   ]
  },
  {
   "cell_type": "code",
   "execution_count": 46,
   "id": "b405a8af",
   "metadata": {},
   "outputs": [
    {
     "name": "stdout",
     "output_type": "stream",
     "text": [
      "163/163 [==============================] - 191s 1s/step\n"
     ]
    }
   ],
   "source": [
    "#original code\n",
    "# lstm_prediction = lstm_model.predict_classes(test_text)\n",
    "# issue fix ref: https://github.com/keras-team/keras/issues/15838\n",
    "\n",
    "\n",
    "lstm_prediction = lstm_model.predict(test_text)"
   ]
  },
  {
   "cell_type": "code",
   "execution_count": 47,
   "id": "288ca183",
   "metadata": {},
   "outputs": [
    {
     "data": {
      "text/plain": [
       "(5200, 2)"
      ]
     },
     "execution_count": 47,
     "metadata": {},
     "output_type": "execute_result"
    }
   ],
   "source": [
    "lstm_prediction.shape"
   ]
  },
  {
   "cell_type": "code",
   "execution_count": 48,
   "id": "95e78639",
   "metadata": {},
   "outputs": [
    {
     "data": {
      "text/plain": [
       "(5200,)"
      ]
     },
     "execution_count": 48,
     "metadata": {},
     "output_type": "execute_result"
    }
   ],
   "source": [
    "test_data.index.shape"
   ]
  },
  {
   "cell_type": "code",
   "execution_count": 50,
   "id": "e58ec8c4",
   "metadata": {},
   "outputs": [],
   "source": [
    "submission = pd.DataFrame({'id':test_data.index, 'label':len(lstm_prediction)})\n",
    "#submission.shape"
   ]
  },
  {
   "cell_type": "code",
   "execution_count": 51,
   "id": "790e572b",
   "metadata": {
    "scrolled": true
   },
   "outputs": [
    {
     "data": {
      "text/html": [
       "<div>\n",
       "<style scoped>\n",
       "    .dataframe tbody tr th:only-of-type {\n",
       "        vertical-align: middle;\n",
       "    }\n",
       "\n",
       "    .dataframe tbody tr th {\n",
       "        vertical-align: top;\n",
       "    }\n",
       "\n",
       "    .dataframe thead th {\n",
       "        text-align: right;\n",
       "    }\n",
       "</style>\n",
       "<table border=\"1\" class=\"dataframe\">\n",
       "  <thead>\n",
       "    <tr style=\"text-align: right;\">\n",
       "      <th></th>\n",
       "      <th>id</th>\n",
       "      <th>label</th>\n",
       "    </tr>\n",
       "  </thead>\n",
       "  <tbody>\n",
       "    <tr>\n",
       "      <th>0</th>\n",
       "      <td>20800</td>\n",
       "      <td>5200</td>\n",
       "    </tr>\n",
       "    <tr>\n",
       "      <th>1</th>\n",
       "      <td>20801</td>\n",
       "      <td>5200</td>\n",
       "    </tr>\n",
       "    <tr>\n",
       "      <th>2</th>\n",
       "      <td>20802</td>\n",
       "      <td>5200</td>\n",
       "    </tr>\n",
       "    <tr>\n",
       "      <th>3</th>\n",
       "      <td>20803</td>\n",
       "      <td>5200</td>\n",
       "    </tr>\n",
       "    <tr>\n",
       "      <th>4</th>\n",
       "      <td>20804</td>\n",
       "      <td>5200</td>\n",
       "    </tr>\n",
       "  </tbody>\n",
       "</table>\n",
       "</div>"
      ],
      "text/plain": [
       "      id  label\n",
       "0  20800   5200\n",
       "1  20801   5200\n",
       "2  20802   5200\n",
       "3  20803   5200\n",
       "4  20804   5200"
      ]
     },
     "execution_count": 51,
     "metadata": {},
     "output_type": "execute_result"
    }
   ],
   "source": [
    "submission.head()"
   ]
  },
  {
   "cell_type": "code",
   "execution_count": 52,
   "id": "dd9c4bd0",
   "metadata": {},
   "outputs": [],
   "source": [
    "submission.to_csv('submission.csv', index = False)"
   ]
  },
  {
   "cell_type": "code",
   "execution_count": 63,
   "id": "28c488c2",
   "metadata": {},
   "outputs": [],
   "source": [
    "from sklearn.metrics import classification_report, accuracy_score\n",
    "#https://github.com/Shaon2221/Fake-News-Detection-using-LSTM/blob/master/Fake%20News%20Detection%20using%20LSTM.ipynb"
   ]
  },
  {
   "cell_type": "code",
   "execution_count": 69,
   "id": "45799f88",
   "metadata": {},
   "outputs": [
    {
     "name": "stdout",
     "output_type": "stream",
     "text": [
      "129/129 [==============================] - 154s 1s/step\n"
     ]
    }
   ],
   "source": [
    "y_pred = (lstm_model.predict(X_test) >= 0.5).astype(\"int\")"
   ]
  },
  {
   "cell_type": "code",
   "execution_count": null,
   "id": "24c3296c",
   "metadata": {},
   "outputs": [],
   "source": []
  }
 ],
 "metadata": {
  "kernelspec": {
   "display_name": "Python 3 (ipykernel)",
   "language": "python",
   "name": "python3"
  },
  "language_info": {
   "codemirror_mode": {
    "name": "ipython",
    "version": 3
   },
   "file_extension": ".py",
   "mimetype": "text/x-python",
   "name": "python",
   "nbconvert_exporter": "python",
   "pygments_lexer": "ipython3",
   "version": "3.11.4"
  }
 },
 "nbformat": 4,
 "nbformat_minor": 5
}
